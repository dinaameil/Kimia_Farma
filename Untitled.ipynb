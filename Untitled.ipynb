{
 "cells": [
  {
   "cell_type": "code",
   "execution_count": 1,
   "id": "58d5827c-cd2d-44d7-ad66-7ee4d29ae8e6",
   "metadata": {},
   "outputs": [],
   "source": [
    "import pandas as pd"
   ]
  },
  {
   "cell_type": "code",
   "execution_count": 2,
   "id": "f7927f49-14b1-4253-a14c-a34744b324a8",
   "metadata": {},
   "outputs": [],
   "source": [
    "df1 = pd.read_csv('kf_final_transaction.csv')"
   ]
  },
  {
   "cell_type": "code",
   "execution_count": 3,
   "id": "3d9f15ae-def9-442b-85ed-c4732f4d2799",
   "metadata": {},
   "outputs": [
    {
     "name": "stdout",
     "output_type": "stream",
     "text": [
      "Baris-baris dengan tanggal tidak valid:\n",
      "Empty DataFrame\n",
      "Columns: [transaction_id, date, branch_id, customer_name, product_id, price, discount_percentage, rating, valid_date]\n",
      "Index: []\n",
      "Jumlah kesalahan: 0\n"
     ]
    }
   ],
   "source": [
    "df1['valid_date'] = pd.to_datetime(df1['date'], errors='coerce').notna()\n",
    "\n",
    "# Menampilkan baris-baris yang memiliki tanggal yang tidak valid\n",
    "invalid_dates = df1[df1['valid_date'] == False]\n",
    "print(\"Baris-baris dengan tanggal tidak valid:\")\n",
    "print(invalid_dates)\n",
    "\n",
    "# Jumlah baris dengan tanggal tidak valid\n",
    "jumlah_kesalahan = invalid_dates.shape[0]\n",
    "print(\"Jumlah kesalahan:\", jumlah_kesalahan)"
   ]
  },
  {
   "cell_type": "code",
   "execution_count": 4,
   "id": "92251ba3-03d0-4ed6-a46b-6494e67505f9",
   "metadata": {},
   "outputs": [
    {
     "name": "stdout",
     "output_type": "stream",
     "text": [
      "<class 'pandas.core.frame.DataFrame'>\n",
      "RangeIndex: 672458 entries, 0 to 672457\n",
      "Data columns (total 9 columns):\n",
      " #   Column               Non-Null Count   Dtype  \n",
      "---  ------               --------------   -----  \n",
      " 0   transaction_id       672458 non-null  object \n",
      " 1   date                 672458 non-null  object \n",
      " 2   branch_id            672458 non-null  int64  \n",
      " 3   customer_name        672458 non-null  object \n",
      " 4   product_id           672458 non-null  object \n",
      " 5   price                672458 non-null  int64  \n",
      " 6   discount_percentage  672458 non-null  float64\n",
      " 7   rating               672458 non-null  float64\n",
      " 8   valid_date           672458 non-null  bool   \n",
      "dtypes: bool(1), float64(2), int64(2), object(4)\n",
      "memory usage: 41.7+ MB\n"
     ]
    }
   ],
   "source": [
    "df1.info()"
   ]
  },
  {
   "cell_type": "code",
   "execution_count": null,
   "id": "54617097-33d1-433e-b3a2-89b9c6984993",
   "metadata": {},
   "outputs": [],
   "source": []
  }
 ],
 "metadata": {
  "kernelspec": {
   "display_name": "Python 3 (ipykernel)",
   "language": "python",
   "name": "python3"
  },
  "language_info": {
   "codemirror_mode": {
    "name": "ipython",
    "version": 3
   },
   "file_extension": ".py",
   "mimetype": "text/x-python",
   "name": "python",
   "nbconvert_exporter": "python",
   "pygments_lexer": "ipython3",
   "version": "3.11.4"
  }
 },
 "nbformat": 4,
 "nbformat_minor": 5
}
